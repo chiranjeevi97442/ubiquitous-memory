{
  "nbformat": 4,
  "nbformat_minor": 0,
  "metadata": {
    "colab": {
      "name": "Untitled2.ipynb",
      "provenance": [],
      "collapsed_sections": [],
      "include_colab_link": true
    },
    "kernelspec": {
      "name": "python3",
      "display_name": "Python 3"
    }
  },
  "cells": [
    {
      "cell_type": "markdown",
      "metadata": {
        "id": "view-in-github",
        "colab_type": "text"
      },
      "source": [
        "<a href=\"https://colab.research.google.com/github/chiranjeevi97442/ubiquitous-memory/blob/master/lporiginal.ipynb\" target=\"_parent\"><img src=\"https://colab.research.google.com/assets/colab-badge.svg\" alt=\"Open In Colab\"/></a>"
      ]
    },
    {
      "cell_type": "code",
      "metadata": {
        "colab": {
          "base_uri": "https://localhost:8080/",
          "height": 766
        },
        "id": "RKADS2v16fEB",
        "outputId": "c128fbc1-fe13-4562-8a3e-9045e5cfa07f"
      },
      "source": [
        "import matplotlib.pyplot as plt\r\n",
        "import numpy as np\r\n",
        "import pandas as pd\r\n",
        "import math \r\n",
        "from numpy import random\r\n",
        "from sklearn import linear_model, metrics\r\n",
        "from sklearn.model_selection import train_test_split\r\n",
        "from sklearn.linear_model import LinearRegression\r\n",
        "from sklearn.metrics import r2_score\r\n",
        "x=random.randint(25, size=(3000))\r\n",
        "x=x.reshape(-1,1)\r\n",
        "z=1/np.sqrt(2);\r\n",
        "p=1/np.sqrt(math.pi);\r\n",
        "y =np.sin(2*math.pi*x)+z*p*np.exp(-(x**2)/2);\r\n",
        "s = pd.DataFrame(x)\r\n",
        "s.columns=['x']\r\n",
        "s['y']=''\r\n",
        "print(\"The DataFrame \")\r\n",
        "print(s);\r\n",
        "fig = plt.figure()\r\n",
        "plt.title('data graph');\r\n",
        "plt.xlabel('time axis');\r\n",
        "plt.ylabel('output');\r\n",
        "plt.plot(x,y,'.');\r\n",
        "train_x=x[:40]\r\n",
        "train_y=y[:40]\r\n",
        "test_x=x[40:]\r\n",
        "test_y=y[40:]\r\n",
        "regr = linear_model.LinearRegression()\r\n",
        "m=regr.fit(train_x,train_y)\r\n",
        "y_pred=regr.predict(test_x)\r\n",
        "print('Coefficients: \\n', regr.coef_)\r\n",
        "mse=np.square(np.subtract(test_y,y_pred))\r\n",
        "print('mean square error:%.2f',mse)\r\n",
        "z= r2_score(test_y,y_pred)\r\n",
        "print('weight of linear regression model',z)\r\n",
        "plt.scatter(test_x,test_y, color='black')\r\n",
        "plt.plot(test_x, y_pred, color='blue', linewidth=1)\r\n",
        "from sklearn import metrics\r\n",
        "print(metrics.mean_absolute_error(test_y,y_pred))\r\n",
        "print('intercept:', m.intercept_)\r\n",
        "print('slope:', m.coef_)"
      ],
      "execution_count": null,
      "outputs": [
        {
          "output_type": "stream",
          "text": [
            "The DataFrame \n",
            "       x y \n",
            "0     13   \n",
            "1      0   \n",
            "2     21   \n",
            "3      3   \n",
            "4      1   \n",
            "...   .. ..\n",
            "2995   8   \n",
            "2996   4   \n",
            "2997   2   \n",
            "2998  18   \n",
            "2999   0   \n",
            "\n",
            "[3000 rows x 2 columns]\n",
            "Coefficients: \n",
            " [[-0.00729962]]\n",
            "mean square error:%.2f [[9.62262377e-03]\n",
            " [5.82626025e-03]\n",
            " [1.26911420e-04]\n",
            " ...\n",
            " [3.46180162e-03]\n",
            " [1.57281792e-05]\n",
            " [7.37203935e-02]]\n",
            "weight of linear regression model 0.19570374164469473\n",
            "0.05707630312226031\n",
            "intercept: [0.12742728]\n",
            "slope: [[-0.00729962]]\n"
          ],
          "name": "stdout"
        },
        {
          "output_type": "display_data",
          "data": {
            "image/png": "[encoded data removed]",
            "text/plain": [
              "<Figure size 432x288 with 1 Axes>"
            ]
          },
          "metadata": {
            "tags": [],
            "needs_background": "light"
          }
        }
      ]
    },
    {
      "cell_type": "code",
      "metadata": {
        "id": "Do5gPlfkSHBA"
      },
      "source": [
        ""
      ],
      "execution_count": null,
      "outputs": []
    },
    {
      "cell_type": "code",
      "metadata": {
        "colab": {
          "base_uri": "https://localhost:8080/",
          "height": 265
        },
        "id": "uxGCmFFcck7i",
        "outputId": "efae48ba-d909-4a2f-c387-64e823ff86d5"
      },
      "source": [
        "plt.plot(train_x, train_y,'.')\r\n",
        "plt.show()"
      ],
      "execution_count": null,
      "outputs": [
        {
          "output_type": "display_data",
          "data": {
            "image/png": "[encoded data removed]",
            "text/plain": [
              "<Figure size 432x288 with 1 Axes>"
            ]
          },
          "metadata": {
            "tags": [],
            "needs_background": "light"
          }
        }
      ]
    },
    {
      "cell_type": "code",
      "metadata": {
        "id": "qBAmBLjpj2pE",
        "colab": {
          "base_uri": "https://localhost:8080/",
          "height": 346
        },
        "outputId": "17fa4f11-3a4b-4e3d-a29d-50e09ec39015"
      },
      "source": [
        "import matplotlib.pyplot as plt\r\n",
        "import numpy as np\r\n",
        "x=np.linsapce(0,1,1000)\r\n",
        "y=np.sin(2*3.14*x)\r\n",
        "plt.plot(x,y,'.')"
      ],
      "execution_count": null,
      "outputs": [
        {
          "output_type": "error",
          "ename": "AttributeError",
          "evalue": "ignored",
          "traceback": [
            "\u001b[0;31m---------------------------------------------------------------------------\u001b[0m",
            "\u001b[0;31mAttributeError\u001b[0m                            Traceback (most recent call last)",
            "\u001b[0;32m<ipython-input-2-fe000d989310>\u001b[0m in \u001b[0;36m<module>\u001b[0;34m()\u001b[0m\n\u001b[1;32m      1\u001b[0m \u001b[0;32mimport\u001b[0m \u001b[0mmatplotlib\u001b[0m\u001b[0;34m.\u001b[0m\u001b[0mpyplot\u001b[0m \u001b[0;32mas\u001b[0m \u001b[0mplt\u001b[0m\u001b[0;34m\u001b[0m\u001b[0;34m\u001b[0m\u001b[0m\n\u001b[1;32m      2\u001b[0m \u001b[0;32mimport\u001b[0m \u001b[0mnumpy\u001b[0m \u001b[0;32mas\u001b[0m \u001b[0mnp\u001b[0m\u001b[0;34m\u001b[0m\u001b[0;34m\u001b[0m\u001b[0m\n\u001b[0;32m----> 3\u001b[0;31m \u001b[0mx\u001b[0m\u001b[0;34m=\u001b[0m\u001b[0mnp\u001b[0m\u001b[0;34m.\u001b[0m\u001b[0mlinsapce\u001b[0m\u001b[0;34m(\u001b[0m\u001b[0;36m0\u001b[0m\u001b[0;34m,\u001b[0m\u001b[0;36m1\u001b[0m\u001b[0;34m,\u001b[0m\u001b[0;36m1000\u001b[0m\u001b[0;34m)\u001b[0m\u001b[0;34m\u001b[0m\u001b[0;34m\u001b[0m\u001b[0m\n\u001b[0m\u001b[1;32m      4\u001b[0m \u001b[0my\u001b[0m\u001b[0;34m=\u001b[0m\u001b[0mnp\u001b[0m\u001b[0;34m.\u001b[0m\u001b[0msin\u001b[0m\u001b[0;34m(\u001b[0m\u001b[0;36m2\u001b[0m\u001b[0;34m*\u001b[0m\u001b[0;36m3.14\u001b[0m\u001b[0;34m*\u001b[0m\u001b[0mx\u001b[0m\u001b[0;34m)\u001b[0m\u001b[0;34m\u001b[0m\u001b[0;34m\u001b[0m\u001b[0m\n\u001b[1;32m      5\u001b[0m \u001b[0mplt\u001b[0m\u001b[0;34m.\u001b[0m\u001b[0mplot\u001b[0m\u001b[0;34m(\u001b[0m\u001b[0mx\u001b[0m\u001b[0;34m,\u001b[0m\u001b[0my\u001b[0m\u001b[0;34m,\u001b[0m\u001b[0;34m'.'\u001b[0m\u001b[0;34m)\u001b[0m\u001b[0;34m\u001b[0m\u001b[0;34m\u001b[0m\u001b[0m\n",
            "\u001b[0;32m/usr/local/lib/python3.7/dist-packages/numpy/__init__.py\u001b[0m in \u001b[0;36m__getattr__\u001b[0;34m(attr)\u001b[0m\n\u001b[1;32m    213\u001b[0m             \u001b[0;32melse\u001b[0m\u001b[0;34m:\u001b[0m\u001b[0;34m\u001b[0m\u001b[0;34m\u001b[0m\u001b[0m\n\u001b[1;32m    214\u001b[0m                 raise AttributeError(\"module {!r} has no attribute \"\n\u001b[0;32m--> 215\u001b[0;31m                                      \"{!r}\".format(__name__, attr))\n\u001b[0m\u001b[1;32m    216\u001b[0m \u001b[0;34m\u001b[0m\u001b[0m\n\u001b[1;32m    217\u001b[0m         \u001b[0;32mdef\u001b[0m \u001b[0m__dir__\u001b[0m\u001b[0;34m(\u001b[0m\u001b[0;34m)\u001b[0m\u001b[0;34m:\u001b[0m\u001b[0;34m\u001b[0m\u001b[0;34m\u001b[0m\u001b[0m\n",
            "\u001b[0;31mAttributeError\u001b[0m: module 'numpy' has no attribute 'linsapce'"
          ]
        }
      ]
    }
  ]
}